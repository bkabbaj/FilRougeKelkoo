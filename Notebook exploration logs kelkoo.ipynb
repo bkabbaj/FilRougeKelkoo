{
 "cells": [
  {
   "cell_type": "code",
   "execution_count": 1,
   "metadata": {
    "collapsed": false
   },
   "outputs": [],
   "source": [
    "import pymongo\n",
    "import pandas as pd\n",
    "from pymongo import MongoClient\n",
    "\n",
    "client = MongoClient('localhost', 27021)  \n",
    "db = client.mydb\n",
    "logs = db.logs \n",
    "data = pd.DataFrame(list(logs.find({\"clicked\":\"Yes\"})))"
   ]
  },
  {
   "cell_type": "code",
   "execution_count": 2,
   "metadata": {
    "collapsed": true
   },
   "outputs": [
    {
     "name": "stdout",
     "output_type": "stream",
     "text": [
      "                        _id                affiliation_id_md5 category_id  \\\n",
      "0  5663102b48bf8c98e197ab9c  55C2CD539947E9BB024F8F664D451310      108301   \n",
      "\n",
      "  clicked  cpc_search_rank             keyword  \\\n",
      "0     Yes             0.13  stressnomore co uk   \n",
      "\n",
      "                    merchant_id_md5  nb_requested_results  nb_total_results  \\\n",
      "0  568303EAEEC920F5F6C2A1BF7FEEBFBC                    20             74390   \n",
      "\n",
      "                           offer_id  offer_position  price  \\\n",
      "0  9b37681472d6be7a881b4bc333cc5066               4      8   \n",
      "\n",
      "                            search_id service_type  static_rank_score  \\\n",
      "0  1076981216737_1446375012987_233805         ecs3           0.831435   \n",
      "\n",
      "                                               title  total_rank_score  \n",
      "0  boohoo Boho Print Double Split Maxi Co Ord Set...          0.918252  \n"
     ]
    }
   ],
   "source": [
    "print(data.head(1))"
   ]
  },
  {
   "cell_type": "code",
   "execution_count": 3,
   "metadata": {
    "collapsed": true
   },
   "outputs": [
    {
     "data": {
      "text/html": [
       "<div>\n",
       "<table border=\"1\" class=\"dataframe\">\n",
       "  <thead>\n",
       "    <tr style=\"text-align: right;\">\n",
       "      <th></th>\n",
       "      <th>cpc_search_rank</th>\n",
       "      <th>nb_requested_results</th>\n",
       "      <th>nb_total_results</th>\n",
       "      <th>offer_position</th>\n",
       "      <th>price</th>\n",
       "      <th>static_rank_score</th>\n",
       "      <th>total_rank_score</th>\n",
       "    </tr>\n",
       "  </thead>\n",
       "  <tbody>\n",
       "    <tr>\n",
       "      <th>count</th>\n",
       "      <td>18153.000000</td>\n",
       "      <td>18153.000000</td>\n",
       "      <td>18153.000000</td>\n",
       "      <td>18153.000000</td>\n",
       "      <td>18153.000000</td>\n",
       "      <td>18153.000000</td>\n",
       "      <td>18153.000000</td>\n",
       "    </tr>\n",
       "    <tr>\n",
       "      <th>mean</th>\n",
       "      <td>0.120496</td>\n",
       "      <td>17.370572</td>\n",
       "      <td>13016.419545</td>\n",
       "      <td>5.350631</td>\n",
       "      <td>142.977968</td>\n",
       "      <td>0.719651</td>\n",
       "      <td>5.482755</td>\n",
       "    </tr>\n",
       "    <tr>\n",
       "      <th>std</th>\n",
       "      <td>0.060648</td>\n",
       "      <td>11.003451</td>\n",
       "      <td>134978.693078</td>\n",
       "      <td>5.223272</td>\n",
       "      <td>800.483425</td>\n",
       "      <td>0.198817</td>\n",
       "      <td>7.210830</td>\n",
       "    </tr>\n",
       "    <tr>\n",
       "      <th>min</th>\n",
       "      <td>0.000000</td>\n",
       "      <td>1.000000</td>\n",
       "      <td>1.000000</td>\n",
       "      <td>1.000000</td>\n",
       "      <td>0.010000</td>\n",
       "      <td>0.076515</td>\n",
       "      <td>0.001538</td>\n",
       "    </tr>\n",
       "    <tr>\n",
       "      <th>25%</th>\n",
       "      <td>0.060000</td>\n",
       "      <td>10.000000</td>\n",
       "      <td>44.000000</td>\n",
       "      <td>1.000000</td>\n",
       "      <td>15.000000</td>\n",
       "      <td>0.744190</td>\n",
       "      <td>1.019391</td>\n",
       "    </tr>\n",
       "    <tr>\n",
       "      <th>50%</th>\n",
       "      <td>0.130000</td>\n",
       "      <td>18.000000</td>\n",
       "      <td>399.000000</td>\n",
       "      <td>4.000000</td>\n",
       "      <td>45.500000</td>\n",
       "      <td>0.794804</td>\n",
       "      <td>2.876961</td>\n",
       "    </tr>\n",
       "    <tr>\n",
       "      <th>75%</th>\n",
       "      <td>0.160000</td>\n",
       "      <td>20.000000</td>\n",
       "      <td>3105.000000</td>\n",
       "      <td>7.000000</td>\n",
       "      <td>125.940000</td>\n",
       "      <td>0.852735</td>\n",
       "      <td>7.787351</td>\n",
       "    </tr>\n",
       "    <tr>\n",
       "      <th>max</th>\n",
       "      <td>0.640000</td>\n",
       "      <td>100.000000</td>\n",
       "      <td>7329725.000000</td>\n",
       "      <td>30.000000</td>\n",
       "      <td>100000.000000</td>\n",
       "      <td>1.288877</td>\n",
       "      <td>87.487206</td>\n",
       "    </tr>\n",
       "  </tbody>\n",
       "</table>\n",
       "</div>"
      ],
      "text/plain": [
       "       cpc_search_rank  nb_requested_results  nb_total_results  \\\n",
       "count     18153.000000          18153.000000      18153.000000   \n",
       "mean          0.120496             17.370572      13016.419545   \n",
       "std           0.060648             11.003451     134978.693078   \n",
       "min           0.000000              1.000000          1.000000   \n",
       "25%           0.060000             10.000000         44.000000   \n",
       "50%           0.130000             18.000000        399.000000   \n",
       "75%           0.160000             20.000000       3105.000000   \n",
       "max           0.640000            100.000000    7329725.000000   \n",
       "\n",
       "       offer_position          price  static_rank_score  total_rank_score  \n",
       "count    18153.000000   18153.000000       18153.000000      18153.000000  \n",
       "mean         5.350631     142.977968           0.719651          5.482755  \n",
       "std          5.223272     800.483425           0.198817          7.210830  \n",
       "min          1.000000       0.010000           0.076515          0.001538  \n",
       "25%          1.000000      15.000000           0.744190          1.019391  \n",
       "50%          4.000000      45.500000           0.794804          2.876961  \n",
       "75%          7.000000     125.940000           0.852735          7.787351  \n",
       "max         30.000000  100000.000000           1.288877         87.487206  "
      ]
     },
     "execution_count": 3,
     "metadata": {},
     "output_type": "execute_result"
    }
   ],
   "source": [
    "data.describe()"
   ]
  },
  {
   "cell_type": "code",
   "execution_count": 4,
   "metadata": {
    "collapsed": false,
    "scrolled": true
   },
   "outputs": [
    {
     "name": "stdout",
     "output_type": "stream",
     "text": [
      "12300\n"
     ]
    }
   ],
   "source": [
    "print(data['offer_id'].nunique())"
   ]
  },
  {
   "cell_type": "code",
   "execution_count": 5,
   "metadata": {
    "collapsed": false
   },
   "outputs": [
    {
     "data": {
      "text/plain": [
       "268"
      ]
     },
     "execution_count": 5,
     "metadata": {},
     "output_type": "execute_result"
    }
   ],
   "source": [
    "data['category_id'].nunique()"
   ]
  },
  {
   "cell_type": "code",
   "execution_count": 6,
   "metadata": {
    "collapsed": false
   },
   "outputs": [
    {
     "data": {
      "text/plain": [
       "154"
      ]
     },
     "execution_count": 6,
     "metadata": {},
     "output_type": "execute_result"
    }
   ],
   "source": [
    "data['merchant_id_md5'].nunique()"
   ]
  },
  {
   "cell_type": "code",
   "execution_count": 7,
   "metadata": {
    "collapsed": false
   },
   "outputs": [
    {
     "data": {
      "text/plain": [
       "70"
      ]
     },
     "execution_count": 7,
     "metadata": {},
     "output_type": "execute_result"
    }
   ],
   "source": [
    "data['affiliation_id_md5'].nunique()"
   ]
  },
  {
   "cell_type": "code",
   "execution_count": 8,
   "metadata": {
    "collapsed": false
   },
   "outputs": [
    {
     "data": {
      "text/plain": [
       "15804"
      ]
     },
     "execution_count": 8,
     "metadata": {},
     "output_type": "execute_result"
    }
   ],
   "source": [
    "data['search_id'].nunique()"
   ]
  },
  {
   "cell_type": "code",
   "execution_count": 9,
   "metadata": {
    "collapsed": false
   },
   "outputs": [
    {
     "data": {
      "text/plain": [
       "18153"
      ]
     },
     "execution_count": 9,
     "metadata": {},
     "output_type": "execute_result"
    }
   ],
   "source": [
    "data['_id'].count()"
   ]
  },
  {
   "cell_type": "markdown",
   "metadata": {},
   "source": [
    "# Que veut dire nb_requested_results?"
   ]
  },
  {
   "cell_type": "code",
   "execution_count": 10,
   "metadata": {
    "collapsed": true
   },
   "outputs": [
    {
     "data": {
      "text/html": [
       "<div>\n",
       "<table border=\"1\" class=\"dataframe\">\n",
       "  <thead>\n",
       "    <tr style=\"text-align: right;\">\n",
       "      <th></th>\n",
       "      <th>_id</th>\n",
       "      <th>affiliation_id_md5</th>\n",
       "      <th>category_id</th>\n",
       "      <th>clicked</th>\n",
       "      <th>cpc_search_rank</th>\n",
       "      <th>keyword</th>\n",
       "      <th>merchant_id_md5</th>\n",
       "      <th>nb_requested_results</th>\n",
       "      <th>nb_total_results</th>\n",
       "      <th>offer_id</th>\n",
       "      <th>offer_position</th>\n",
       "      <th>price</th>\n",
       "      <th>search_id</th>\n",
       "      <th>service_type</th>\n",
       "      <th>static_rank_score</th>\n",
       "      <th>title</th>\n",
       "      <th>total_rank_score</th>\n",
       "    </tr>\n",
       "  </thead>\n",
       "  <tbody>\n",
       "    <tr>\n",
       "      <th>0</th>\n",
       "      <td>5663102b48bf8c98e197ab9c</td>\n",
       "      <td>55C2CD539947E9BB024F8F664D451310</td>\n",
       "      <td>108301</td>\n",
       "      <td>Yes</td>\n",
       "      <td>0.13</td>\n",
       "      <td>stressnomore co uk</td>\n",
       "      <td>568303EAEEC920F5F6C2A1BF7FEEBFBC</td>\n",
       "      <td>20</td>\n",
       "      <td>74390</td>\n",
       "      <td>9b37681472d6be7a881b4bc333cc5066</td>\n",
       "      <td>4</td>\n",
       "      <td>8</td>\n",
       "      <td>1076981216737_1446375012987_233805</td>\n",
       "      <td>ecs3</td>\n",
       "      <td>0.831435</td>\n",
       "      <td>boohoo Boho Print Double Split Maxi Co Ord Set...</td>\n",
       "      <td>0.918252</td>\n",
       "    </tr>\n",
       "  </tbody>\n",
       "</table>\n",
       "</div>"
      ],
      "text/plain": [
       "                        _id                affiliation_id_md5 category_id  \\\n",
       "0  5663102b48bf8c98e197ab9c  55C2CD539947E9BB024F8F664D451310      108301   \n",
       "\n",
       "  clicked  cpc_search_rank             keyword  \\\n",
       "0     Yes             0.13  stressnomore co uk   \n",
       "\n",
       "                    merchant_id_md5  nb_requested_results  nb_total_results  \\\n",
       "0  568303EAEEC920F5F6C2A1BF7FEEBFBC                    20             74390   \n",
       "\n",
       "                           offer_id  offer_position  price  \\\n",
       "0  9b37681472d6be7a881b4bc333cc5066               4      8   \n",
       "\n",
       "                            search_id service_type  static_rank_score  \\\n",
       "0  1076981216737_1446375012987_233805         ecs3           0.831435   \n",
       "\n",
       "                                               title  total_rank_score  \n",
       "0  boohoo Boho Print Double Split Maxi Co Ord Set...          0.918252  "
      ]
     },
     "execution_count": 10,
     "metadata": {},
     "output_type": "execute_result"
    }
   ],
   "source": [
    "data[data['search_id']=='1076981216737_1446375012987_233805']\n"
   ]
  },
  {
   "cell_type": "code",
   "execution_count": 11,
   "metadata": {
    "collapsed": true
   },
   "outputs": [
    {
     "data": {
      "text/html": [
       "<div>\n",
       "<table border=\"1\" class=\"dataframe\">\n",
       "  <thead>\n",
       "    <tr style=\"text-align: right;\">\n",
       "      <th></th>\n",
       "      <th>_id</th>\n",
       "      <th>affiliation_id_md5</th>\n",
       "      <th>category_id</th>\n",
       "      <th>clicked</th>\n",
       "      <th>cpc_search_rank</th>\n",
       "      <th>keyword</th>\n",
       "      <th>merchant_id_md5</th>\n",
       "      <th>nb_requested_results</th>\n",
       "      <th>nb_total_results</th>\n",
       "      <th>offer_id</th>\n",
       "      <th>offer_position</th>\n",
       "      <th>price</th>\n",
       "      <th>search_id</th>\n",
       "      <th>service_type</th>\n",
       "      <th>static_rank_score</th>\n",
       "      <th>title</th>\n",
       "      <th>total_rank_score</th>\n",
       "    </tr>\n",
       "  </thead>\n",
       "  <tbody>\n",
       "    <tr>\n",
       "      <th>3843</th>\n",
       "      <td>5663102d48bf8c98e197ba9f</td>\n",
       "      <td>386D9B96BA37935DA24B5F8FB6680B0F</td>\n",
       "      <td>108301</td>\n",
       "      <td>Yes</td>\n",
       "      <td>0.090</td>\n",
       "      <td>sit on top kayak</td>\n",
       "      <td>12B7D5DF8E470DF1567E1956AA0F0FFF</td>\n",
       "      <td>12</td>\n",
       "      <td>51</td>\n",
       "      <td>064a36d8fb0697f38e8942c53424876b</td>\n",
       "      <td>1</td>\n",
       "      <td>8.00</td>\n",
       "      <td>10769825023445_1446341783774_728505</td>\n",
       "      <td>ecs3</td>\n",
       "      <td>0.794804</td>\n",
       "      <td>First and I First Etsy Shoulder Top</td>\n",
       "      <td>0.662084</td>\n",
       "    </tr>\n",
       "    <tr>\n",
       "      <th>3844</th>\n",
       "      <td>5663102d48bf8c98e197baa0</td>\n",
       "      <td>386D9B96BA37935DA24B5F8FB6680B0F</td>\n",
       "      <td>100353523</td>\n",
       "      <td>Yes</td>\n",
       "      <td>0.082</td>\n",
       "      <td>sit on top kayak</td>\n",
       "      <td>FE555457D27E9376D79D50ED2E2F5C02</td>\n",
       "      <td>12</td>\n",
       "      <td>51</td>\n",
       "      <td>4b7ee298504f9659115988eb78cea48d</td>\n",
       "      <td>12</td>\n",
       "      <td>299.99</td>\n",
       "      <td>10769825023445_1446341783774_728505</td>\n",
       "      <td>ecs3</td>\n",
       "      <td>0.393546</td>\n",
       "      <td>BathEmpire Slipper Bath - Victoria Traditional...</td>\n",
       "      <td>0.327830</td>\n",
       "    </tr>\n",
       "    <tr>\n",
       "      <th>3845</th>\n",
       "      <td>5663102d48bf8c98e197baa1</td>\n",
       "      <td>386D9B96BA37935DA24B5F8FB6680B0F</td>\n",
       "      <td>100353523</td>\n",
       "      <td>Yes</td>\n",
       "      <td>0.090</td>\n",
       "      <td>sit on top kayak</td>\n",
       "      <td>12B7D5DF8E470DF1567E1956AA0F0FFF</td>\n",
       "      <td>12</td>\n",
       "      <td>51</td>\n",
       "      <td>b7f201162a8fb6a16c5845ee80489816</td>\n",
       "      <td>6</td>\n",
       "      <td>0.95</td>\n",
       "      <td>10769825023445_1446341783774_728505</td>\n",
       "      <td>ecs3</td>\n",
       "      <td>0.397402</td>\n",
       "      <td>Tree Top Star Flock Finish</td>\n",
       "      <td>0.331042</td>\n",
       "    </tr>\n",
       "    <tr>\n",
       "      <th>3846</th>\n",
       "      <td>5663102d48bf8c98e197baa2</td>\n",
       "      <td>386D9B96BA37935DA24B5F8FB6680B0F</td>\n",
       "      <td>108301</td>\n",
       "      <td>Yes</td>\n",
       "      <td>0.030</td>\n",
       "      <td>sit on top kayak</td>\n",
       "      <td>307E847C686E29A28F4E9E6419DD3569</td>\n",
       "      <td>12</td>\n",
       "      <td>51</td>\n",
       "      <td>838a854065bf9b1b43eea69331151e85</td>\n",
       "      <td>4</td>\n",
       "      <td>8.00</td>\n",
       "      <td>10769825023445_1446341783774_728505</td>\n",
       "      <td>ecs3</td>\n",
       "      <td>0.733318</td>\n",
       "      <td>First and I First Etsy Shoulder Top</td>\n",
       "      <td>0.610866</td>\n",
       "    </tr>\n",
       "    <tr>\n",
       "      <th>3847</th>\n",
       "      <td>5663102d48bf8c98e197baa3</td>\n",
       "      <td>386D9B96BA37935DA24B5F8FB6680B0F</td>\n",
       "      <td>100353523</td>\n",
       "      <td>Yes</td>\n",
       "      <td>0.082</td>\n",
       "      <td>sit on top kayak</td>\n",
       "      <td>FE555457D27E9376D79D50ED2E2F5C02</td>\n",
       "      <td>12</td>\n",
       "      <td>51</td>\n",
       "      <td>11046689faff90f5c776e67ddeb2af21</td>\n",
       "      <td>10</td>\n",
       "      <td>299.99</td>\n",
       "      <td>10769825023445_1446341783774_728505</td>\n",
       "      <td>ecs3</td>\n",
       "      <td>0.393546</td>\n",
       "      <td>BathEmpire Slipper Bath 1570x730mm - Tradition...</td>\n",
       "      <td>0.327830</td>\n",
       "    </tr>\n",
       "    <tr>\n",
       "      <th>3848</th>\n",
       "      <td>5663102d48bf8c98e197baa4</td>\n",
       "      <td>386D9B96BA37935DA24B5F8FB6680B0F</td>\n",
       "      <td>100353523</td>\n",
       "      <td>Yes</td>\n",
       "      <td>0.082</td>\n",
       "      <td>sit on top kayak</td>\n",
       "      <td>FE555457D27E9376D79D50ED2E2F5C02</td>\n",
       "      <td>12</td>\n",
       "      <td>51</td>\n",
       "      <td>38c8371a4525b40e32e9e6d492d63011</td>\n",
       "      <td>11</td>\n",
       "      <td>269.99</td>\n",
       "      <td>10769825023445_1446341783774_728505</td>\n",
       "      <td>ecs3</td>\n",
       "      <td>0.393546</td>\n",
       "      <td>BathEmpire Roll Top Bath - Victoria Slipper Ba...</td>\n",
       "      <td>0.327830</td>\n",
       "    </tr>\n",
       "    <tr>\n",
       "      <th>3849</th>\n",
       "      <td>5663102d48bf8c98e197baa5</td>\n",
       "      <td>386D9B96BA37935DA24B5F8FB6680B0F</td>\n",
       "      <td>100353523</td>\n",
       "      <td>Yes</td>\n",
       "      <td>0.082</td>\n",
       "      <td>sit on top kayak</td>\n",
       "      <td>FE555457D27E9376D79D50ED2E2F5C02</td>\n",
       "      <td>12</td>\n",
       "      <td>51</td>\n",
       "      <td>38c8371a4525b40e32e9e6d492d63011</td>\n",
       "      <td>11</td>\n",
       "      <td>269.99</td>\n",
       "      <td>10769825023445_1446341783774_728505</td>\n",
       "      <td>ecs3</td>\n",
       "      <td>0.393546</td>\n",
       "      <td>BathEmpire Roll Top Bath - Victoria Slipper Ba...</td>\n",
       "      <td>0.327830</td>\n",
       "    </tr>\n",
       "    <tr>\n",
       "      <th>3850</th>\n",
       "      <td>5663102d48bf8c98e197baa6</td>\n",
       "      <td>386D9B96BA37935DA24B5F8FB6680B0F</td>\n",
       "      <td>108301</td>\n",
       "      <td>Yes</td>\n",
       "      <td>0.030</td>\n",
       "      <td>sit on top kayak</td>\n",
       "      <td>307E847C686E29A28F4E9E6419DD3569</td>\n",
       "      <td>12</td>\n",
       "      <td>51</td>\n",
       "      <td>7b9f31db8f627bda98672fb4eb99818e</td>\n",
       "      <td>3</td>\n",
       "      <td>8.00</td>\n",
       "      <td>10769825023445_1446341783774_728505</td>\n",
       "      <td>ecs3</td>\n",
       "      <td>0.733318</td>\n",
       "      <td>First and I First Etsy Shoulder Top</td>\n",
       "      <td>0.610866</td>\n",
       "    </tr>\n",
       "    <tr>\n",
       "      <th>3851</th>\n",
       "      <td>5663102d48bf8c98e197baa7</td>\n",
       "      <td>386D9B96BA37935DA24B5F8FB6680B0F</td>\n",
       "      <td>100353523</td>\n",
       "      <td>Yes</td>\n",
       "      <td>0.082</td>\n",
       "      <td>sit on top kayak</td>\n",
       "      <td>FE555457D27E9376D79D50ED2E2F5C02</td>\n",
       "      <td>12</td>\n",
       "      <td>51</td>\n",
       "      <td>c7588c9ca9e7b6dd5c53f6ea667da6bd</td>\n",
       "      <td>7</td>\n",
       "      <td>319.99</td>\n",
       "      <td>10769825023445_1446341783774_728505</td>\n",
       "      <td>ecs3</td>\n",
       "      <td>0.393546</td>\n",
       "      <td>BathEmpire Traditional Bath 1690mm - Roll Top ...</td>\n",
       "      <td>0.327830</td>\n",
       "    </tr>\n",
       "    <tr>\n",
       "      <th>3852</th>\n",
       "      <td>5663102d48bf8c98e197baa8</td>\n",
       "      <td>386D9B96BA37935DA24B5F8FB6680B0F</td>\n",
       "      <td>108301</td>\n",
       "      <td>Yes</td>\n",
       "      <td>0.030</td>\n",
       "      <td>sit on top kayak</td>\n",
       "      <td>307E847C686E29A28F4E9E6419DD3569</td>\n",
       "      <td>12</td>\n",
       "      <td>51</td>\n",
       "      <td>553b2f9553553977d090d26ff87eae0c</td>\n",
       "      <td>5</td>\n",
       "      <td>8.00</td>\n",
       "      <td>10769825023445_1446341783774_728505</td>\n",
       "      <td>ecs3</td>\n",
       "      <td>0.733318</td>\n",
       "      <td>First and I First Etsy Shoulder Top</td>\n",
       "      <td>0.610866</td>\n",
       "    </tr>\n",
       "    <tr>\n",
       "      <th>3853</th>\n",
       "      <td>5663102d48bf8c98e197baa9</td>\n",
       "      <td>386D9B96BA37935DA24B5F8FB6680B0F</td>\n",
       "      <td>100353523</td>\n",
       "      <td>Yes</td>\n",
       "      <td>0.082</td>\n",
       "      <td>sit on top kayak</td>\n",
       "      <td>FE555457D27E9376D79D50ED2E2F5C02</td>\n",
       "      <td>12</td>\n",
       "      <td>51</td>\n",
       "      <td>57e391634d4a1f6fa34386b11798c5b3</td>\n",
       "      <td>9</td>\n",
       "      <td>269.99</td>\n",
       "      <td>10769825023445_1446341783774_728505</td>\n",
       "      <td>ecs3</td>\n",
       "      <td>0.393546</td>\n",
       "      <td>BathEmpire Roll Top Baths - Victoria Tradition...</td>\n",
       "      <td>0.327830</td>\n",
       "    </tr>\n",
       "  </tbody>\n",
       "</table>\n",
       "</div>"
      ],
      "text/plain": [
       "                           _id                affiliation_id_md5 category_id  \\\n",
       "3843  5663102d48bf8c98e197ba9f  386D9B96BA37935DA24B5F8FB6680B0F      108301   \n",
       "3844  5663102d48bf8c98e197baa0  386D9B96BA37935DA24B5F8FB6680B0F   100353523   \n",
       "3845  5663102d48bf8c98e197baa1  386D9B96BA37935DA24B5F8FB6680B0F   100353523   \n",
       "3846  5663102d48bf8c98e197baa2  386D9B96BA37935DA24B5F8FB6680B0F      108301   \n",
       "3847  5663102d48bf8c98e197baa3  386D9B96BA37935DA24B5F8FB6680B0F   100353523   \n",
       "3848  5663102d48bf8c98e197baa4  386D9B96BA37935DA24B5F8FB6680B0F   100353523   \n",
       "3849  5663102d48bf8c98e197baa5  386D9B96BA37935DA24B5F8FB6680B0F   100353523   \n",
       "3850  5663102d48bf8c98e197baa6  386D9B96BA37935DA24B5F8FB6680B0F      108301   \n",
       "3851  5663102d48bf8c98e197baa7  386D9B96BA37935DA24B5F8FB6680B0F   100353523   \n",
       "3852  5663102d48bf8c98e197baa8  386D9B96BA37935DA24B5F8FB6680B0F      108301   \n",
       "3853  5663102d48bf8c98e197baa9  386D9B96BA37935DA24B5F8FB6680B0F   100353523   \n",
       "\n",
       "     clicked  cpc_search_rank           keyword  \\\n",
       "3843     Yes            0.090  sit on top kayak   \n",
       "3844     Yes            0.082  sit on top kayak   \n",
       "3845     Yes            0.090  sit on top kayak   \n",
       "3846     Yes            0.030  sit on top kayak   \n",
       "3847     Yes            0.082  sit on top kayak   \n",
       "3848     Yes            0.082  sit on top kayak   \n",
       "3849     Yes            0.082  sit on top kayak   \n",
       "3850     Yes            0.030  sit on top kayak   \n",
       "3851     Yes            0.082  sit on top kayak   \n",
       "3852     Yes            0.030  sit on top kayak   \n",
       "3853     Yes            0.082  sit on top kayak   \n",
       "\n",
       "                       merchant_id_md5  nb_requested_results  \\\n",
       "3843  12B7D5DF8E470DF1567E1956AA0F0FFF                    12   \n",
       "3844  FE555457D27E9376D79D50ED2E2F5C02                    12   \n",
       "3845  12B7D5DF8E470DF1567E1956AA0F0FFF                    12   \n",
       "3846  307E847C686E29A28F4E9E6419DD3569                    12   \n",
       "3847  FE555457D27E9376D79D50ED2E2F5C02                    12   \n",
       "3848  FE555457D27E9376D79D50ED2E2F5C02                    12   \n",
       "3849  FE555457D27E9376D79D50ED2E2F5C02                    12   \n",
       "3850  307E847C686E29A28F4E9E6419DD3569                    12   \n",
       "3851  FE555457D27E9376D79D50ED2E2F5C02                    12   \n",
       "3852  307E847C686E29A28F4E9E6419DD3569                    12   \n",
       "3853  FE555457D27E9376D79D50ED2E2F5C02                    12   \n",
       "\n",
       "      nb_total_results                          offer_id  offer_position  \\\n",
       "3843                51  064a36d8fb0697f38e8942c53424876b               1   \n",
       "3844                51  4b7ee298504f9659115988eb78cea48d              12   \n",
       "3845                51  b7f201162a8fb6a16c5845ee80489816               6   \n",
       "3846                51  838a854065bf9b1b43eea69331151e85               4   \n",
       "3847                51  11046689faff90f5c776e67ddeb2af21              10   \n",
       "3848                51  38c8371a4525b40e32e9e6d492d63011              11   \n",
       "3849                51  38c8371a4525b40e32e9e6d492d63011              11   \n",
       "3850                51  7b9f31db8f627bda98672fb4eb99818e               3   \n",
       "3851                51  c7588c9ca9e7b6dd5c53f6ea667da6bd               7   \n",
       "3852                51  553b2f9553553977d090d26ff87eae0c               5   \n",
       "3853                51  57e391634d4a1f6fa34386b11798c5b3               9   \n",
       "\n",
       "       price                            search_id service_type  \\\n",
       "3843    8.00  10769825023445_1446341783774_728505         ecs3   \n",
       "3844  299.99  10769825023445_1446341783774_728505         ecs3   \n",
       "3845    0.95  10769825023445_1446341783774_728505         ecs3   \n",
       "3846    8.00  10769825023445_1446341783774_728505         ecs3   \n",
       "3847  299.99  10769825023445_1446341783774_728505         ecs3   \n",
       "3848  269.99  10769825023445_1446341783774_728505         ecs3   \n",
       "3849  269.99  10769825023445_1446341783774_728505         ecs3   \n",
       "3850    8.00  10769825023445_1446341783774_728505         ecs3   \n",
       "3851  319.99  10769825023445_1446341783774_728505         ecs3   \n",
       "3852    8.00  10769825023445_1446341783774_728505         ecs3   \n",
       "3853  269.99  10769825023445_1446341783774_728505         ecs3   \n",
       "\n",
       "      static_rank_score                                              title  \\\n",
       "3843           0.794804                First and I First Etsy Shoulder Top   \n",
       "3844           0.393546  BathEmpire Slipper Bath - Victoria Traditional...   \n",
       "3845           0.397402                         Tree Top Star Flock Finish   \n",
       "3846           0.733318                First and I First Etsy Shoulder Top   \n",
       "3847           0.393546  BathEmpire Slipper Bath 1570x730mm - Tradition...   \n",
       "3848           0.393546  BathEmpire Roll Top Bath - Victoria Slipper Ba...   \n",
       "3849           0.393546  BathEmpire Roll Top Bath - Victoria Slipper Ba...   \n",
       "3850           0.733318                First and I First Etsy Shoulder Top   \n",
       "3851           0.393546  BathEmpire Traditional Bath 1690mm - Roll Top ...   \n",
       "3852           0.733318                First and I First Etsy Shoulder Top   \n",
       "3853           0.393546  BathEmpire Roll Top Baths - Victoria Tradition...   \n",
       "\n",
       "      total_rank_score  \n",
       "3843          0.662084  \n",
       "3844          0.327830  \n",
       "3845          0.331042  \n",
       "3846          0.610866  \n",
       "3847          0.327830  \n",
       "3848          0.327830  \n",
       "3849          0.327830  \n",
       "3850          0.610866  \n",
       "3851          0.327830  \n",
       "3852          0.610866  \n",
       "3853          0.327830  "
      ]
     },
     "execution_count": 11,
     "metadata": {},
     "output_type": "execute_result"
    }
   ],
   "source": [
    "data[data['search_id']=='10769825023445_1446341783774_728505']"
   ]
  },
  {
   "cell_type": "markdown",
   "metadata": {},
   "source": [
    "Comment cela se fait qu'on ait plus d'un item clické sur un même search id? La personne est revenu au site publisher et a clické sur un autre item?"
   ]
  },
  {
   "cell_type": "markdown",
   "metadata": {},
   "source": [
    "Comment cela se fait qu'on ait la même offre clickée deux fois pour un même searchid? la personne est revenue au site publisher et a reclické sur le même item?"
   ]
  },
  {
   "cell_type": "code",
   "execution_count": 12,
   "metadata": {
    "collapsed": false
   },
   "outputs": [],
   "source": [
    "l =logs.find().sort('search_id',pymongo.ASCENDING).limit(2000000)\n"
   ]
  },
  {
   "cell_type": "code",
   "execution_count": 13,
   "metadata": {
    "collapsed": false
   },
   "outputs": [
    {
     "data": {
      "text/plain": [
       "15804"
      ]
     },
     "execution_count": 13,
     "metadata": {},
     "output_type": "execute_result"
    }
   ],
   "source": [
    "len(list(data['search_id'].unique()))"
   ]
  },
  {
   "cell_type": "markdown",
   "metadata": {
    "collapsed": true
   },
   "source": [
    "Si toutes les offres sont affichées à quoi ca sert de changer le classement de celles ci ?"
   ]
  },
  {
   "cell_type": "markdown",
   "metadata": {},
   "source": [
    "S'agit-il plutot de reclasser toutes les offres remontées par le moteur de recherche? afin d'afficher celles ayant le meilleur score qui cette fois prend en compte la rentabilité de l'offre également?"
   ]
  },
  {
   "cell_type": "code",
   "execution_count": 14,
   "metadata": {
    "collapsed": false
   },
   "outputs": [],
   "source": [
    "gr = data.groupby('offer_id')"
   ]
  },
  {
   "cell_type": "code",
   "execution_count": 15,
   "metadata": {
    "collapsed": true
   },
   "outputs": [
    {
     "data": {
      "text/plain": [
       "offer_id\n",
       "000b9eff9c58dafccbd7df789128790c      1\n",
       "a2b288544bc87244d9ab25b6ad4cdbb2      1\n",
       "a2b2c6e8c66e7312d651f46f22c7dfbd      1\n",
       "a2b8e616191dbe0af35e3ceaf3f1707d      1\n",
       "a2bfc4b8cf6e4a94d883d44c442edd02      1\n",
       "a2c25e84414c937a8dc145e46101bf6a      1\n",
       "a2d31a5fbbb1fb18c3e5ef633c1f90d6      1\n",
       "a2d3e2f764d7e9433c4c679599176ae5      1\n",
       "a2df153502043003468facef7ceb7efb      1\n",
       "a2e199e24bb71c76d11becced9478043      1\n",
       "a2e319412a10b00eca10f903c97e16b5      1\n",
       "a2ee2ce3bc1399814888360ef692dc7d      1\n",
       "a2fde4063c707affac8ffb71760f47f5      1\n",
       "a2fdefa093d204fd91112b984f6d645b      1\n",
       "a2ff7e6838de30ab7f3a99222cc7b653      1\n",
       "a30595861209b1858a9c45446b2fa8ba      1\n",
       "a30be8104b0e2e78c2affa45612ef38f      1\n",
       "a314ee800bf8e2ce08739073257893a5      1\n",
       "a2b22f6935de9fe38d9d17ca1de2331a      1\n",
       "a2a7177a46a7e31421a1d2fc6679b963      1\n",
       "a2a2df36e1fad9dac3e6827f2a19f811      1\n",
       "a2a28e4b06bc27640fa2e3f0fcbbab47      1\n",
       "a233f2915fb31a03bac5f15ead3f188f      1\n",
       "a23ca058f6e6dd0ba7e48049f536297b      1\n",
       "a24bc77305634d26fcf64e4b104842fb      1\n",
       "a24ded5802d71f12f6b3ece933d036ce      1\n",
       "a24ed6510573d81899d1aea8eae170f1      1\n",
       "a2501d9f9eaa924c7bc51e5e6ccf5051      1\n",
       "a2527d231dd31139919c21e9efee8265      1\n",
       "a262c9ced46420eeb3964b18faddfd99      1\n",
       "                                   ... \n",
       "7eee1c1f63c63f8bf50d7c2638f074c1     16\n",
       "243107dca3b2887cf5106c9f45a1d5c1     16\n",
       "2f4e61110379e2c364f36b6af6aebdbe     16\n",
       "80761c3a8ec717d17f079ab21c53a7df     16\n",
       "a3c1c3bddc51c162db9c00a1f78c45ba     17\n",
       "fe2a433ac923b497a804db89d00664b4     18\n",
       "1539f2b0acc7accd5bfa728ad2f16809     21\n",
       "cd45a7aaa1eb584d5f500ba558ca5d9a     21\n",
       "9636b039b21ade8933ea3cb3e3584325     21\n",
       "e2dae85db5ec92b063d0f8d177bde532     22\n",
       "08ddbd36f1e56a6b7426752bf7fc4b3c     24\n",
       "ffc08b616b59e977c65ddaa961080b66     25\n",
       "59c7dfe25a4ba009b2d23838ebe5b1fb     25\n",
       "9340d7c6e1e8bbb6dbf4bf142642d61c     27\n",
       "64a7addd4fb633c9cd1ae401f7cb0eb9     27\n",
       "90f00c8b0edd330cb9feb62acea75620     27\n",
       "b102faac41338f7659c877b5733dbe9e     31\n",
       "2af1d2dd4ae891d474c2bad2f0848846     32\n",
       "859984053baf29b4b748674402d6cfbb     37\n",
       "8888eb28c7bb28aec36474f7371ab670     44\n",
       "0d18b1612ad452743e2fd08406393cf2     44\n",
       "dac5dbe5687efcf3bcd53eae612b6266     46\n",
       "d082950437f991c519bf7627119f3f5a     47\n",
       "dbdef61f0792310e7ccabe43455b739f     55\n",
       "e8dbad476245eecc6c8fc0a3fd11df71     58\n",
       "02f54641dd4eeccfe4d97ebb692a1bf7     64\n",
       "5078cfeec898d2bce95c44d8e8427a6b     74\n",
       "40e1649d8b69c3c20a080e8799c0268d     75\n",
       "e8ead7196579a5323ecea4208895c04a     79\n",
       "f127e9877b9982b27163d0bc04fdbc3d    340\n",
       "dtype: int64"
      ]
     },
     "execution_count": 15,
     "metadata": {},
     "output_type": "execute_result"
    }
   ],
   "source": [
    "data.groupby('offer_id').size().sort_values()"
   ]
  },
  {
   "cell_type": "code",
   "execution_count": 16,
   "metadata": {
    "collapsed": true
   },
   "outputs": [
    {
     "data": {
      "text/plain": [
       "merchant_id_md5                   offer_id                        \n",
       "7F1C04E93EB91FE88D5AECDB6FD97164  774298a2818236020174fb3cd63fd28d      1\n",
       "84E845D59B08215599114C6B0FAC5AB2  0a81bd959ce5dfd01de27fa0b700c5fb      1\n",
       "                                  0aa9f3d15877fac70e4cc5daf02189a2      1\n",
       "ACACE3BB1EDFDF0EF53EC76BDC74D625  3951ea18b95733ff749921f1d148d411      1\n",
       "84E845D59B08215599114C6B0FAC5AB2  0ab43efae0354715089323c424fd1a6f      1\n",
       "ACACE3BB1EDFDF0EF53EC76BDC74D625  382e2869ce480638c328a75075bbf140      1\n",
       "84E845D59B08215599114C6B0FAC5AB2  0ad54b6bd461bcd896ca130ab8ed985e      1\n",
       "                                  0adadf045616f8836e57743b17687fa8      1\n",
       "                                  0a5b303621285a320661d7eb45122690      1\n",
       "ACACE3BB1EDFDF0EF53EC76BDC74D625  3779b7653619e83936760831f769951c      1\n",
       "84E845D59B08215599114C6B0FAC5AB2  0b032de8af91c0d0574e453f230bf1b9      1\n",
       "                                  0b0ac3a0b69a7830fb0ee87bfee8c449      1\n",
       "                                  0b0f0d76608c1405fcc9028d2197b8c8      1\n",
       "                                  0b1021065372cc19b9d4c87585b863f7      1\n",
       "                                  0b2466517d099dbb0d9b0915f72c4466      1\n",
       "                                  0b2e0252fb11f4312a53be191d79887a      1\n",
       "                                  0b2eae1f946a9e895d0d3a1568dacd65      1\n",
       "                                  0ae5e594dc0c1129ee5ccdafffdcfe6c      1\n",
       "ACACE3BB1EDFDF0EF53EC76BDC74D625  330ebe2e028df972c8c0f0187ec677f6      1\n",
       "84E845D59B08215599114C6B0FAC5AB2  0a174bc2e0fcf6d26f48af9ec6bdd7fe      1\n",
       "                                  09e6eedb7671f79c86a6d8e2c55787f6      1\n",
       "                                  08cbac9e701f4c48bab05ec99ec6f739      1\n",
       "                                  08de6b8707bfc2fff5144e10ec58c52d      1\n",
       "                                  08ebfc2c8249c6f8485cdc89ce9ab863      1\n",
       "                                  08f5dc8951c8c936294fb8f22e1a94cd      1\n",
       "                                  09055c10eec11c9bc3d26e681f097d98      1\n",
       "                                  0910b84ca46948ba51ffe7c9f4e8d2d3      1\n",
       "                                  091e5fc5e3afb1b16401a764f9b5008d      1\n",
       "                                  0a01937c717450f4544231c3edf08213      1\n",
       "                                  0921a78cac05cffc090b4f9a66f07dca      1\n",
       "                                                                     ... \n",
       "911A34B3AFC1AEE6CE8AC4A5A5E47AE4  7eee1c1f63c63f8bf50d7c2638f074c1     16\n",
       "400C323A6079500DB7A2665A6C2B7510  80761c3a8ec717d17f079ab21c53a7df     16\n",
       "3DA3453F607BFEDC59928E1A95066F25  737fc3d051f8f731b3a62d694aed91fc     16\n",
       "DF028B22216D3BBD9FD8E4E5DD84AE71  2f4e61110379e2c364f36b6af6aebdbe     16\n",
       "7F1C04E93EB91FE88D5AECDB6FD97164  a3c1c3bddc51c162db9c00a1f78c45ba     17\n",
       "                                  fe2a433ac923b497a804db89d00664b4     18\n",
       "61C0CB9CC798F7A7CE853731A2BB0FF1  9636b039b21ade8933ea3cb3e3584325     21\n",
       "6B05C9052C24553EF0B6150476DC13BF  1539f2b0acc7accd5bfa728ad2f16809     21\n",
       "FF10149C10C68AE46B04B54A05F5C38B  cd45a7aaa1eb584d5f500ba558ca5d9a     21\n",
       "19E7013F5541F83E1D605D1FDA3C936B  e2dae85db5ec92b063d0f8d177bde532     22\n",
       "7F1C04E93EB91FE88D5AECDB6FD97164  08ddbd36f1e56a6b7426752bf7fc4b3c     24\n",
       "                                  ffc08b616b59e977c65ddaa961080b66     25\n",
       "                                  59c7dfe25a4ba009b2d23838ebe5b1fb     25\n",
       "5A3162756F1A8B82FE2170C2BA52B60E  64a7addd4fb633c9cd1ae401f7cb0eb9     27\n",
       "2E061E988DD6DAFCD65AF95BC175499E  9340d7c6e1e8bbb6dbf4bf142642d61c     27\n",
       "7F1C04E93EB91FE88D5AECDB6FD97164  90f00c8b0edd330cb9feb62acea75620     27\n",
       "53EF536D65F85ACB5B82F5A3C1C8B6E5  b102faac41338f7659c877b5733dbe9e     31\n",
       "5A3162756F1A8B82FE2170C2BA52B60E  2af1d2dd4ae891d474c2bad2f0848846     32\n",
       "1F5B4D2825E1E1500A7DBB744B6CB2FE  859984053baf29b4b748674402d6cfbb     37\n",
       "5A3162756F1A8B82FE2170C2BA52B60E  8888eb28c7bb28aec36474f7371ab670     44\n",
       "61C0CB9CC798F7A7CE853731A2BB0FF1  0d18b1612ad452743e2fd08406393cf2     44\n",
       "F023532D24F90EC52EA964F875E6D2BA  dac5dbe5687efcf3bcd53eae612b6266     46\n",
       "2E061E988DD6DAFCD65AF95BC175499E  d082950437f991c519bf7627119f3f5a     47\n",
       "5A3162756F1A8B82FE2170C2BA52B60E  dbdef61f0792310e7ccabe43455b739f     55\n",
       "7F1C04E93EB91FE88D5AECDB6FD97164  e8dbad476245eecc6c8fc0a3fd11df71     58\n",
       "400C323A6079500DB7A2665A6C2B7510  02f54641dd4eeccfe4d97ebb692a1bf7     64\n",
       "2E061E988DD6DAFCD65AF95BC175499E  5078cfeec898d2bce95c44d8e8427a6b     74\n",
       "5A3162756F1A8B82FE2170C2BA52B60E  40e1649d8b69c3c20a080e8799c0268d     75\n",
       "7F1C04E93EB91FE88D5AECDB6FD97164  e8ead7196579a5323ecea4208895c04a     79\n",
       "                                  f127e9877b9982b27163d0bc04fdbc3d    340\n",
       "dtype: int64"
      ]
     },
     "execution_count": 16,
     "metadata": {},
     "output_type": "execute_result"
    }
   ],
   "source": [
    "data.groupby(['merchant_id_md5','offer_id']).size().sort_values()"
   ]
  },
  {
   "cell_type": "code",
   "execution_count": 17,
   "metadata": {
    "collapsed": false
   },
   "outputs": [
    {
     "data": {
      "text/html": [
       "<div>\n",
       "<table border=\"1\" class=\"dataframe\">\n",
       "  <thead>\n",
       "    <tr style=\"text-align: right;\">\n",
       "      <th></th>\n",
       "      <th>_id</th>\n",
       "      <th>affiliation_id_md5</th>\n",
       "      <th>category_id</th>\n",
       "      <th>clicked</th>\n",
       "      <th>cpc_search_rank</th>\n",
       "      <th>keyword</th>\n",
       "      <th>merchant_id_md5</th>\n",
       "      <th>nb_requested_results</th>\n",
       "      <th>nb_total_results</th>\n",
       "      <th>offer_id</th>\n",
       "      <th>offer_position</th>\n",
       "      <th>price</th>\n",
       "      <th>search_id</th>\n",
       "      <th>service_type</th>\n",
       "      <th>static_rank_score</th>\n",
       "      <th>title</th>\n",
       "      <th>total_rank_score</th>\n",
       "    </tr>\n",
       "  </thead>\n",
       "  <tbody>\n",
       "    <tr>\n",
       "      <th>128</th>\n",
       "      <td>5663102b48bf8c98e197ac1c</td>\n",
       "      <td>B4BE11D7E04B13E10C7264B042B4790A</td>\n",
       "      <td>100066113</td>\n",
       "      <td>Yes</td>\n",
       "      <td>0.06</td>\n",
       "      <td>newman nw10 3nr</td>\n",
       "      <td>84E845D59B08215599114C6B0FAC5AB2</td>\n",
       "      <td>10</td>\n",
       "      <td>3</td>\n",
       "      <td>0aa9f3d15877fac70e4cc5daf02189a2</td>\n",
       "      <td>1</td>\n",
       "      <td>6.1</td>\n",
       "      <td>10769825031984_1446401492549_554083</td>\n",
       "      <td>ecs3</td>\n",
       "      <td>0.15303</td>\n",
       "      <td>Lenoge® LENOGE&amp;#174; 90W 19.5V 4.7A Charger La...</td>\n",
       "      <td>0.27452</td>\n",
       "    </tr>\n",
       "  </tbody>\n",
       "</table>\n",
       "</div>"
      ],
      "text/plain": [
       "                          _id                affiliation_id_md5 category_id  \\\n",
       "128  5663102b48bf8c98e197ac1c  B4BE11D7E04B13E10C7264B042B4790A   100066113   \n",
       "\n",
       "    clicked  cpc_search_rank          keyword  \\\n",
       "128     Yes             0.06  newman nw10 3nr   \n",
       "\n",
       "                      merchant_id_md5  nb_requested_results  nb_total_results  \\\n",
       "128  84E845D59B08215599114C6B0FAC5AB2                    10                 3   \n",
       "\n",
       "                             offer_id  offer_position  price  \\\n",
       "128  0aa9f3d15877fac70e4cc5daf02189a2               1    6.1   \n",
       "\n",
       "                               search_id service_type  static_rank_score  \\\n",
       "128  10769825031984_1446401492549_554083         ecs3            0.15303   \n",
       "\n",
       "                                                 title  total_rank_score  \n",
       "128  Lenoge® LENOGE&#174; 90W 19.5V 4.7A Charger La...           0.27452  "
      ]
     },
     "execution_count": 17,
     "metadata": {},
     "output_type": "execute_result"
    }
   ],
   "source": [
    "data[data['offer_id'] == '0aa9f3d15877fac70e4cc5daf02189a2']"
   ]
  },
  {
   "cell_type": "code",
   "execution_count": 18,
   "metadata": {
    "collapsed": true
   },
   "outputs": [
    {
     "data": {
      "text/plain": [
       "offer_id                          merchant_id_md5                 \n",
       "000b9eff9c58dafccbd7df789128790c  461D623F9A75E56B82064DC19C86FA99      1\n",
       "a2b288544bc87244d9ab25b6ad4cdbb2  400C323A6079500DB7A2665A6C2B7510      1\n",
       "a2b2c6e8c66e7312d651f46f22c7dfbd  A8A7E7BB47DC64FAC2E3D7157F786E1C      1\n",
       "a2b8e616191dbe0af35e3ceaf3f1707d  498C2EE0514EE5D5EE31A874794BE5E8      1\n",
       "a2bfc4b8cf6e4a94d883d44c442edd02  7F1C04E93EB91FE88D5AECDB6FD97164      1\n",
       "a2c25e84414c937a8dc145e46101bf6a  7F1C04E93EB91FE88D5AECDB6FD97164      1\n",
       "a2d31a5fbbb1fb18c3e5ef633c1f90d6  1F5B4D2825E1E1500A7DBB744B6CB2FE      1\n",
       "a2d3e2f764d7e9433c4c679599176ae5  2E061E988DD6DAFCD65AF95BC175499E      1\n",
       "a2df153502043003468facef7ceb7efb  7BEF10FA911898CA1630CF81F6A37BDB      1\n",
       "a2e199e24bb71c76d11becced9478043  84E845D59B08215599114C6B0FAC5AB2      1\n",
       "a2e319412a10b00eca10f903c97e16b5  84E845D59B08215599114C6B0FAC5AB2      1\n",
       "a2ee2ce3bc1399814888360ef692dc7d  934D56CB96537DE073C8F61777EBD186      1\n",
       "a2fde4063c707affac8ffb71760f47f5  84E845D59B08215599114C6B0FAC5AB2      1\n",
       "a2fdefa093d204fd91112b984f6d645b  C9663B75330072A2E95D687506618AB6      1\n",
       "a2ff7e6838de30ab7f3a99222cc7b653  FF10149C10C68AE46B04B54A05F5C38B      1\n",
       "a30595861209b1858a9c45446b2fa8ba  2E061E988DD6DAFCD65AF95BC175499E      1\n",
       "a30be8104b0e2e78c2affa45612ef38f  84E845D59B08215599114C6B0FAC5AB2      1\n",
       "a314ee800bf8e2ce08739073257893a5  461D623F9A75E56B82064DC19C86FA99      1\n",
       "a2b22f6935de9fe38d9d17ca1de2331a  84E845D59B08215599114C6B0FAC5AB2      1\n",
       "a2a7177a46a7e31421a1d2fc6679b963  7F1C04E93EB91FE88D5AECDB6FD97164      1\n",
       "a2a2df36e1fad9dac3e6827f2a19f811  400C323A6079500DB7A2665A6C2B7510      1\n",
       "a2a28e4b06bc27640fa2e3f0fcbbab47  84E845D59B08215599114C6B0FAC5AB2      1\n",
       "a233f2915fb31a03bac5f15ead3f188f  84E845D59B08215599114C6B0FAC5AB2      1\n",
       "a23ca058f6e6dd0ba7e48049f536297b  3F5C276712CEAF8287A7558E90CE5556      1\n",
       "a24bc77305634d26fcf64e4b104842fb  400C323A6079500DB7A2665A6C2B7510      1\n",
       "a24ded5802d71f12f6b3ece933d036ce  7BEF10FA911898CA1630CF81F6A37BDB      1\n",
       "a24ed6510573d81899d1aea8eae170f1  84E845D59B08215599114C6B0FAC5AB2      1\n",
       "a2501d9f9eaa924c7bc51e5e6ccf5051  7F1C04E93EB91FE88D5AECDB6FD97164      1\n",
       "a2527d231dd31139919c21e9efee8265  2E061E988DD6DAFCD65AF95BC175499E      1\n",
       "a262c9ced46420eeb3964b18faddfd99  400C323A6079500DB7A2665A6C2B7510      1\n",
       "                                                                     ... \n",
       "7eee1c1f63c63f8bf50d7c2638f074c1  911A34B3AFC1AEE6CE8AC4A5A5E47AE4     16\n",
       "243107dca3b2887cf5106c9f45a1d5c1  5A3162756F1A8B82FE2170C2BA52B60E     16\n",
       "2f4e61110379e2c364f36b6af6aebdbe  DF028B22216D3BBD9FD8E4E5DD84AE71     16\n",
       "80761c3a8ec717d17f079ab21c53a7df  400C323A6079500DB7A2665A6C2B7510     16\n",
       "a3c1c3bddc51c162db9c00a1f78c45ba  7F1C04E93EB91FE88D5AECDB6FD97164     17\n",
       "fe2a433ac923b497a804db89d00664b4  7F1C04E93EB91FE88D5AECDB6FD97164     18\n",
       "1539f2b0acc7accd5bfa728ad2f16809  6B05C9052C24553EF0B6150476DC13BF     21\n",
       "cd45a7aaa1eb584d5f500ba558ca5d9a  FF10149C10C68AE46B04B54A05F5C38B     21\n",
       "9636b039b21ade8933ea3cb3e3584325  61C0CB9CC798F7A7CE853731A2BB0FF1     21\n",
       "e2dae85db5ec92b063d0f8d177bde532  19E7013F5541F83E1D605D1FDA3C936B     22\n",
       "08ddbd36f1e56a6b7426752bf7fc4b3c  7F1C04E93EB91FE88D5AECDB6FD97164     24\n",
       "ffc08b616b59e977c65ddaa961080b66  7F1C04E93EB91FE88D5AECDB6FD97164     25\n",
       "59c7dfe25a4ba009b2d23838ebe5b1fb  7F1C04E93EB91FE88D5AECDB6FD97164     25\n",
       "9340d7c6e1e8bbb6dbf4bf142642d61c  2E061E988DD6DAFCD65AF95BC175499E     27\n",
       "64a7addd4fb633c9cd1ae401f7cb0eb9  5A3162756F1A8B82FE2170C2BA52B60E     27\n",
       "90f00c8b0edd330cb9feb62acea75620  7F1C04E93EB91FE88D5AECDB6FD97164     27\n",
       "b102faac41338f7659c877b5733dbe9e  53EF536D65F85ACB5B82F5A3C1C8B6E5     31\n",
       "2af1d2dd4ae891d474c2bad2f0848846  5A3162756F1A8B82FE2170C2BA52B60E     32\n",
       "859984053baf29b4b748674402d6cfbb  1F5B4D2825E1E1500A7DBB744B6CB2FE     37\n",
       "8888eb28c7bb28aec36474f7371ab670  5A3162756F1A8B82FE2170C2BA52B60E     44\n",
       "0d18b1612ad452743e2fd08406393cf2  61C0CB9CC798F7A7CE853731A2BB0FF1     44\n",
       "dac5dbe5687efcf3bcd53eae612b6266  F023532D24F90EC52EA964F875E6D2BA     46\n",
       "d082950437f991c519bf7627119f3f5a  2E061E988DD6DAFCD65AF95BC175499E     47\n",
       "dbdef61f0792310e7ccabe43455b739f  5A3162756F1A8B82FE2170C2BA52B60E     55\n",
       "e8dbad476245eecc6c8fc0a3fd11df71  7F1C04E93EB91FE88D5AECDB6FD97164     58\n",
       "02f54641dd4eeccfe4d97ebb692a1bf7  400C323A6079500DB7A2665A6C2B7510     64\n",
       "5078cfeec898d2bce95c44d8e8427a6b  2E061E988DD6DAFCD65AF95BC175499E     74\n",
       "40e1649d8b69c3c20a080e8799c0268d  5A3162756F1A8B82FE2170C2BA52B60E     75\n",
       "e8ead7196579a5323ecea4208895c04a  7F1C04E93EB91FE88D5AECDB6FD97164     79\n",
       "f127e9877b9982b27163d0bc04fdbc3d  7F1C04E93EB91FE88D5AECDB6FD97164    340\n",
       "dtype: int64"
      ]
     },
     "execution_count": 18,
     "metadata": {},
     "output_type": "execute_result"
    }
   ],
   "source": [
    "data.groupby(['offer_id','merchant_id_md5']).size().sort_values()"
   ]
  },
  {
   "cell_type": "code",
   "execution_count": 19,
   "metadata": {
    "collapsed": false
   },
   "outputs": [],
   "source": [
    "gr = data.groupby(['offer_id','merchant_id_md5']).size()\n"
   ]
  },
  {
   "cell_type": "code",
   "execution_count": 29,
   "metadata": {
    "collapsed": false
   },
   "outputs": [],
   "source": [
    "df =data.groupby(['merchant_id_md5']).agg({'merchant_id_md5':{'nb':'count'}})\n",
    "df.columns = df.columns.droplevel(0)\n",
    "df.sort_index()"
   ]
  },
  {
   "cell_type": "code",
   "execution_count": 36,
   "metadata": {
    "collapsed": true
   },
   "outputs": [
    {
     "data": {
      "text/plain": [
       "merchant_id_md5\n",
       "73706A23208951C86D8E04C3E324F321       1\n",
       "90FA5D2F667F9747F9070A15D85239C8       1\n",
       "7B045327974A92E266942B4A8A101A31       1\n",
       "70FEAD4E9D4A8571BD759F36DEF0FE99       1\n",
       "B6BAEC9DAB8E7A0F07EC082F1F0E0925       1\n",
       "66B9644A194459169C3ECC2B03BEF6E9       1\n",
       "B8772E8CBD45042DF58FD0ECFAB58D4C       1\n",
       "601DFD3BBD053DDE68C738662D5186F4       1\n",
       "B9280A9752AA3D4E68B7671ACBD74318       1\n",
       "5C8BBD1B6425B5FC798FB012DA2622EB       1\n",
       "59DB7512EA71881A020FDDB1177BBB44       1\n",
       "53344CB76460A227EBD93528D238D6ED       1\n",
       "D7BCCF55550A323D3A5BD2D974406755       1\n",
       "E4D6D2351E68B84313D4F85E69B8356F       1\n",
       "389053D9A5EB4715766469D1698ED2AD       1\n",
       "2D82FAB039ADAE63ECB56A1A034507EF       1\n",
       "D2CC9F0F6759DA3F43D50B26B6934BC9       1\n",
       "F9146243E3DF86F494EB1C84A7B76B7B       1\n",
       "5B734134839A3B6475FBF5202A1EA859       2\n",
       "2A5BB53941F661C2F4023758528B4C7F       2\n",
       "DEC4D633E81881DE312EC32ED5D62447       2\n",
       "E29FD5811389357399AAB539E5CD805C       2\n",
       "38154C313A7FF92806446615063AEAA2       2\n",
       "1B972A03CFE6BF424596B681CF248DC8       2\n",
       "3C523816BA672EA0F02808CC65932FC3       3\n",
       "884B926C9B6B2BDA8F34EBEC4BEEEB2D       3\n",
       "D7AA59CE68BDF62727673E613FFCD5DE       3\n",
       "E1A1D9701563A10CBCF0CFA6A3A6C3D1       3\n",
       "B46C89557E4F5676CDEFD26DC836F7A3       3\n",
       "6302352DECB6251B79234A724AAF0A0E       3\n",
       "                                    ... \n",
       "1F5B4D2825E1E1500A7DBB744B6CB2FE      98\n",
       "48509ED8B7137DBBFA629889A407B6EE      98\n",
       "568303EAEEC920F5F6C2A1BF7FEEBFBC     104\n",
       "10775777671D0DF78DADD310F9B1DE6B     109\n",
       "FF10149C10C68AE46B04B54A05F5C38B     109\n",
       "E8B935FD2B8F85F89E13EE46071DEBFC     112\n",
       "498C2EE0514EE5D5EE31A874794BE5E8     119\n",
       "DB6A60C482392B29E61E4D59C237D83B     121\n",
       "622B2BFCCBC6BBC4F92CD7E8826BB778     121\n",
       "8C45CE8E5E37601D2AC490B2C09CDA29     125\n",
       "BC1CDF49ACDA1C9C3DDEC63F48F35374     137\n",
       "ACACE3BB1EDFDF0EF53EC76BDC74D625     139\n",
       "82F38B1D8952DE6FEF4E3077B8F8C9A3     152\n",
       "808B333C328CAF21F2A2A9DA76F4272F     156\n",
       "A8A7E7BB47DC64FAC2E3D7157F786E1C     193\n",
       "3FAA7347E101BA1D391477E30454CF10     237\n",
       "5FA700AD172E5583AB680FA8804F2366     238\n",
       "3F5C276712CEAF8287A7558E90CE5556     265\n",
       "25230191D092F3D80AED46F7177F4F15     286\n",
       "912BCCE380E394D4391E4C8B2DF469B6     304\n",
       "461D623F9A75E56B82064DC19C86FA99     352\n",
       "2D33C812003A5FA3048D32935EFBDAE6     417\n",
       "12B7D5DF8E470DF1567E1956AA0F0FFF     433\n",
       "5A3162756F1A8B82FE2170C2BA52B60E     560\n",
       "2E061E988DD6DAFCD65AF95BC175499E     606\n",
       "FF0010F96F2A1CBF90552C5EE32AE452     790\n",
       "400C323A6079500DB7A2665A6C2B7510     986\n",
       "7BEF10FA911898CA1630CF81F6A37BDB    1708\n",
       "7F1C04E93EB91FE88D5AECDB6FD97164    1896\n",
       "84E845D59B08215599114C6B0FAC5AB2    3696\n",
       "dtype: int64"
      ]
     },
     "execution_count": 36,
     "metadata": {},
     "output_type": "execute_result"
    }
   ],
   "source": [
    "data.groupby('merchant_id_md5').size().sort_values()"
   ]
  },
  {
   "cell_type": "code",
   "execution_count": 41,
   "metadata": {
    "collapsed": false
   },
   "outputs": [
    {
     "name": "stdout",
     "output_type": "stream",
     "text": [
      "Populating the interactive namespace from numpy and matplotlib\n"
     ]
    },
    {
     "data": {
      "text/plain": [
       "(array([ 4.,  0.,  2.,  0.,  0.,  0.,  1.]),\n",
       " array([  500.,  1000.,  1500.,  2000.,  2500.,  3000.,  3500.,  4000.]),\n",
       " <a list of 7 Patch objects>)"
      ]
     },
     "execution_count": 41,
     "metadata": {},
     "output_type": "execute_result"
    },
    {
     "data": {
      "image/png": "[encoded data removed]",
      "text/plain": [
       "<matplotlib.figure.Figure at 0x109fb6630>"
      ]
     },
     "metadata": {},
     "output_type": "display_data"
    }
   ],
   "source": [
    "%pylab inline\n",
    "import matplotlib.pyplot as plt\n",
    "plt.hist(df['nb'], range = (500, 4000), bins = 7, color = 'yellow',\n",
    "            edgecolor = 'red')"
   ]
  },
  {
   "cell_type": "code",
   "execution_count": 43,
   "metadata": {
    "collapsed": false
   },
   "outputs": [],
   "source": [
    "df2 =data.groupby(['offer_id']).agg({'offer_id':{'nb':'count'}})\n",
    "\n",
    "df2.sort_index()"
   ]
  },
  {
   "cell_type": "code",
   "execution_count": 48,
   "metadata": {
    "collapsed": true
   },
   "outputs": [
    {
     "data": {
      "text/plain": [
       "offer_id\n",
       "000b9eff9c58dafccbd7df789128790c      1\n",
       "a2b288544bc87244d9ab25b6ad4cdbb2      1\n",
       "a2b2c6e8c66e7312d651f46f22c7dfbd      1\n",
       "a2b8e616191dbe0af35e3ceaf3f1707d      1\n",
       "a2bfc4b8cf6e4a94d883d44c442edd02      1\n",
       "a2c25e84414c937a8dc145e46101bf6a      1\n",
       "a2d31a5fbbb1fb18c3e5ef633c1f90d6      1\n",
       "a2d3e2f764d7e9433c4c679599176ae5      1\n",
       "a2df153502043003468facef7ceb7efb      1\n",
       "a2e199e24bb71c76d11becced9478043      1\n",
       "a2e319412a10b00eca10f903c97e16b5      1\n",
       "a2ee2ce3bc1399814888360ef692dc7d      1\n",
       "a2fde4063c707affac8ffb71760f47f5      1\n",
       "a2fdefa093d204fd91112b984f6d645b      1\n",
       "a2ff7e6838de30ab7f3a99222cc7b653      1\n",
       "a30595861209b1858a9c45446b2fa8ba      1\n",
       "a30be8104b0e2e78c2affa45612ef38f      1\n",
       "a314ee800bf8e2ce08739073257893a5      1\n",
       "a2b22f6935de9fe38d9d17ca1de2331a      1\n",
       "a2a7177a46a7e31421a1d2fc6679b963      1\n",
       "a2a2df36e1fad9dac3e6827f2a19f811      1\n",
       "a2a28e4b06bc27640fa2e3f0fcbbab47      1\n",
       "a233f2915fb31a03bac5f15ead3f188f      1\n",
       "a23ca058f6e6dd0ba7e48049f536297b      1\n",
       "a24bc77305634d26fcf64e4b104842fb      1\n",
       "a24ded5802d71f12f6b3ece933d036ce      1\n",
       "a24ed6510573d81899d1aea8eae170f1      1\n",
       "a2501d9f9eaa924c7bc51e5e6ccf5051      1\n",
       "a2527d231dd31139919c21e9efee8265      1\n",
       "a262c9ced46420eeb3964b18faddfd99      1\n",
       "                                   ... \n",
       "7eee1c1f63c63f8bf50d7c2638f074c1     16\n",
       "243107dca3b2887cf5106c9f45a1d5c1     16\n",
       "2f4e61110379e2c364f36b6af6aebdbe     16\n",
       "80761c3a8ec717d17f079ab21c53a7df     16\n",
       "a3c1c3bddc51c162db9c00a1f78c45ba     17\n",
       "fe2a433ac923b497a804db89d00664b4     18\n",
       "1539f2b0acc7accd5bfa728ad2f16809     21\n",
       "cd45a7aaa1eb584d5f500ba558ca5d9a     21\n",
       "9636b039b21ade8933ea3cb3e3584325     21\n",
       "e2dae85db5ec92b063d0f8d177bde532     22\n",
       "08ddbd36f1e56a6b7426752bf7fc4b3c     24\n",
       "ffc08b616b59e977c65ddaa961080b66     25\n",
       "59c7dfe25a4ba009b2d23838ebe5b1fb     25\n",
       "9340d7c6e1e8bbb6dbf4bf142642d61c     27\n",
       "64a7addd4fb633c9cd1ae401f7cb0eb9     27\n",
       "90f00c8b0edd330cb9feb62acea75620     27\n",
       "b102faac41338f7659c877b5733dbe9e     31\n",
       "2af1d2dd4ae891d474c2bad2f0848846     32\n",
       "859984053baf29b4b748674402d6cfbb     37\n",
       "8888eb28c7bb28aec36474f7371ab670     44\n",
       "0d18b1612ad452743e2fd08406393cf2     44\n",
       "dac5dbe5687efcf3bcd53eae612b6266     46\n",
       "d082950437f991c519bf7627119f3f5a     47\n",
       "dbdef61f0792310e7ccabe43455b739f     55\n",
       "e8dbad476245eecc6c8fc0a3fd11df71     58\n",
       "02f54641dd4eeccfe4d97ebb692a1bf7     64\n",
       "5078cfeec898d2bce95c44d8e8427a6b     74\n",
       "40e1649d8b69c3c20a080e8799c0268d     75\n",
       "e8ead7196579a5323ecea4208895c04a     79\n",
       "f127e9877b9982b27163d0bc04fdbc3d    340\n",
       "dtype: int64"
      ]
     },
     "execution_count": 48,
     "metadata": {},
     "output_type": "execute_result"
    }
   ],
   "source": [
    "data.groupby('offer_id').size().sort_values()"
   ]
  },
  {
   "cell_type": "code",
   "execution_count": 61,
   "metadata": {
    "collapsed": false
   },
   "outputs": [
    {
     "data": {
      "text/plain": [
       "(array([ 10.,   0.,   0.,   0.,   0.,   0.,   1.]),\n",
       " array([  40.        ,   82.85714286,  125.71428571,  168.57142857,\n",
       "         211.42857143,  254.28571429,  297.14285714,  340.        ]),\n",
       " <a list of 7 Patch objects>)"
      ]
     },
     "execution_count": 61,
     "metadata": {},
     "output_type": "execute_result"
    },
    {
     "data": {
      "image/png": "[encoded data removed]",
      "text/plain": [
       "<matplotlib.figure.Figure at 0x109e9af98>"
      ]
     },
     "metadata": {},
     "output_type": "display_data"
    }
   ],
   "source": [
    "import matplotlib.pyplot as plt\n",
    "plt.hist(df2['offer_id']['nb'], range = (40, 340), bins = 7, color = 'yellow',\n",
    "            edgecolor = 'red')"
   ]
  },
  {
   "cell_type": "code",
   "execution_count": 62,
   "metadata": {
    "collapsed": false
   },
   "outputs": [
    {
     "data": {
      "text/plain": [
       "(array([  1.19300000e+04,   2.63000000e+02,   7.10000000e+01,\n",
       "          1.20000000e+01,   5.00000000e+00,   5.00000000e+00,\n",
       "          2.00000000e+00,   1.00000000e+00]),\n",
       " array([  0.,   5.,  10.,  15.,  20.,  25.,  30.,  35.,  40.]),\n",
       " <a list of 8 Patch objects>)"
      ]
     },
     "execution_count": 62,
     "metadata": {},
     "output_type": "execute_result"
    },
    {
     "data": {
      "image/png": "[encoded data removed]",
      "text/plain": [
       "<matplotlib.figure.Figure at 0x109f79e48>"
      ]
     },
     "metadata": {},
     "output_type": "display_data"
    }
   ],
   "source": [
    "import matplotlib.pyplot as plt\n",
    "plt.hist(df2['offer_id']['nb'], range = (0, 40), bins = 8, color = 'yellow',\n",
    "            edgecolor = 'red')"
   ]
  },
  {
   "cell_type": "markdown",
   "metadata": {},
   "source": [
    "Il faut peut exploiter les biais de position, de marchand pour mettre en avant les cpc elevé"
   ]
  },
  {
   "cell_type": "code",
   "execution_count": 63,
   "metadata": {
    "collapsed": false
   },
   "outputs": [
    {
     "data": {
      "text/plain": [
       "(array([     0.,  10358.,   1049.,    336.,    280.]),\n",
       " array([ 0.,  1.,  2.,  3.,  4.,  5.]),\n",
       " <a list of 5 Patch objects>)"
      ]
     },
     "execution_count": 63,
     "metadata": {},
     "output_type": "execute_result"
    },
    {
     "data": {
      "image/png": "[encoded data removed]",
      "text/plain": [
       "<matplotlib.figure.Figure at 0x109fdaac8>"
      ]
     },
     "metadata": {},
     "output_type": "display_data"
    }
   ],
   "source": [
    "import matplotlib.pyplot as plt\n",
    "plt.hist(df2['offer_id']['nb'], range = (0, 5), bins = 5, color = 'yellow',\n",
    "            edgecolor = 'red')"
   ]
  },
  {
   "cell_type": "code",
   "execution_count": null,
   "metadata": {
    "collapsed": true
   },
   "outputs": [],
   "source": []
  }
 ],
 "metadata": {
  "kernelspec": {
   "display_name": "Python 3",
   "language": "python",
   "name": "python3"
  },
  "language_info": {
   "codemirror_mode": {
    "name": "ipython",
    "version": 3
   },
   "file_extension": ".py",
   "mimetype": "text/x-python",
   "name": "python",
   "nbconvert_exporter": "python",
   "pygments_lexer": "ipython3",
   "version": "3.5.0"
  }
 },
 "nbformat": 4,
 "nbformat_minor": 0
}
